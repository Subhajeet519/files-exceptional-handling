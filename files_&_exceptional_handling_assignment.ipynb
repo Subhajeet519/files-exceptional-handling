{
  "nbformat": 4,
  "nbformat_minor": 0,
  "metadata": {
    "colab": {
      "provenance": []
    },
    "kernelspec": {
      "name": "python3",
      "display_name": "Python 3"
    },
    "language_info": {
      "name": "python"
    }
  },
  "cells": [
    {
      "cell_type": "markdown",
      "source": [
        "1. What is the difference between interpreted and compiled languages?\n",
        "-> Interpreted languages (like Python) execute code line-by-line, while compiled languages (like C/C++) translate the entire code into machine code before execution.\n",
        "2. What is exception handling in Python?\n",
        "-> Interpreted languages (like Python) execute code line-by-line, while compiled languages (like C/C++) translate the entire code into machine code before execution.\n",
        "3. What is the purpose of the finally block in exception handling?\n",
        "-> Executes code regardless of whether an exception occurred or not—commonly used to release resources.\n",
        "4. What is logging in Python?\n",
        "-> Python’s logging module is used to track events and errors during program execution.\n",
        "5. What is the significance of the __del__ method in Python?\n",
        "-> A destructor method called when an object is about to be destroyed.\n",
        "6. What is the difference between import and from ... import in Python?\n",
        "-> import module loads the full module; from module import name imports specific items.\n",
        "7. How can you handle multiple exceptions in Python?\n",
        "-> Use multiple except blocks or a tuple:\n",
        "except (ValueError, TypeError):\n",
        "8. What is the purpose of the with statement when handling files in Python?\n",
        "-> Manages resources like files automatically (closes them), used with context managers.\n",
        "9. What is the difference between multithreading and multiprocessing?\n",
        "-> Multithreading shares memory space, suitable for I/O-bound tasks; multiprocessing uses separate memory, better for CPU-bound tasks.\n",
        "10. What are the advantages of using logging in a program?\n",
        "-> Easier debugging, error tracking, and record-keeping during application lifecycle.\n",
        "11. What is memory management in Python?\n",
        "-> Automatic in Python using reference counting and garbage collection.\n",
        "12. What are the basic steps involved in exception handling in Python?\n",
        "-> Use try, except, optionally else and finally.\n",
        "13. Why is memory management important in Python?\n",
        "-> Prevents memory leaks and ensures efficient memory usage.\n",
        "14. What is the role of try and except in exception handling?\n",
        "-> try contains risky code, except handles the error if it occurs.\n",
        "15. How does Python's garbage collection system work?\n",
        "-> Python frees up memory by destroying unused or unreachable objects.\n",
        "16. What is the purpose of the else block in exception handling?\n",
        "-> Executes only if no exception was raised in the try block.\n",
        "17. What are the common logging levels in Python?\n",
        "-> DEBUG, INFO, WARNING, ERROR, CRITICAL.\n",
        "18. What is the difference between os.fork() and multiprocessing in Python?\n",
        "-> os.fork() is Unix-only; multiprocessing is platform-independent and preferred.\n",
        "19. What is the importance of closing a file in Python?\n",
        "-> Frees resources and ensures data integrity.\n",
        "20. What is the difference between file.read() and file.readline() in Python?\n",
        "-> read() reads the whole file; readline() reads one line at a time.\n",
        "21. What is the logging module in Python used for?\n",
        "-> Records logs for debugging, monitoring, and error handling.\n",
        "22. What is the os module in Python used for in file handling?\n",
        "-> Used for file path handling, directory management, environment interaction, etc.\n",
        "23. What are the challenges associated with memory management in Python?\n",
        "-> Include memory leaks, fragmentation, or excessive use due to poor handling.\n",
        "24.  How do you raise an exception manually in Python?\n",
        "-> Use raise Exception(\"message\").\n",
        "25. Why is it important to use multithreading in certain applications?\n",
        "-> Useful for performing I/O tasks in parallel, improving responsiveness and speed."
      ],
      "metadata": {
        "id": "QdWfQWTvMMFF"
      }
    },
    {
      "cell_type": "code",
      "source": [
        "#1. How can you open a file for writing in Python and write a string to it?\n",
        "\n",
        "with open('output.txt', 'w') as f:\n",
        "    f.write(\"Hello, Python!\")"
      ],
      "metadata": {
        "id": "6gB3KFO6WwKt"
      },
      "execution_count": 56,
      "outputs": []
    },
    {
      "cell_type": "code",
      "source": [
        "#2. Read a file and print each line**\n",
        "\n",
        "with open('input.txt', 'r') as f:\n",
        "    for line in f:\n",
        "        print(line.strip())"
      ],
      "metadata": {
        "colab": {
          "base_uri": "https://localhost:8080/"
        },
        "id": "7xbu0KRml_sw",
        "outputId": "ad19c727-efc4-427c-9550-1d99eb49fcd7"
      },
      "execution_count": 55,
      "outputs": [
        {
          "output_type": "stream",
          "name": "stdout",
          "text": [
            "This is the first line.\n",
            "This is the second line.\n",
            "This is the third line.\n"
          ]
        }
      ]
    },
    {
      "cell_type": "code",
      "source": [
        "#3. Handle file not found\n",
        "\n",
        "try:\n",
        "    with open('nonexistent.txt', 'r') as f:\n",
        "        content = f.read()\n",
        "except FileNotFoundError:\n",
        "    print(\"File not found.\")"
      ],
      "metadata": {
        "colab": {
          "base_uri": "https://localhost:8080/"
        },
        "id": "bYKSHAHImAjY",
        "outputId": "a184a89a-80e2-41fc-ce50-b654d3cc5d34"
      },
      "execution_count": 52,
      "outputs": [
        {
          "output_type": "stream",
          "name": "stdout",
          "text": [
            "File not found.\n"
          ]
        }
      ]
    },
    {
      "cell_type": "code",
      "source": [
        "#4. Copy content from one file to another**\n",
        "\n",
        "with open('source.txt', 'r') as src, open('destination.txt', 'w') as dst:\n",
        "    dst.write(src.read())"
      ],
      "metadata": {
        "id": "9L4d7QY7mLAW"
      },
      "execution_count": 51,
      "outputs": []
    },
    {
      "cell_type": "code",
      "source": [
        "#5. Handle ZeroDivisionError**\n",
        "\n",
        "try:\n",
        "    result = 10 / 0\n",
        "except ZeroDivisionError:\n",
        "    print(\"Division by zero is not allowed.\")"
      ],
      "metadata": {
        "colab": {
          "base_uri": "https://localhost:8080/"
        },
        "id": "n6hEHig8mPGX",
        "outputId": "265c966d-68ae-4798-a6ae-08594b447d09"
      },
      "execution_count": 47,
      "outputs": [
        {
          "output_type": "stream",
          "name": "stdout",
          "text": [
            "Division by zero is not allowed.\n"
          ]
        }
      ]
    },
    {
      "cell_type": "code",
      "source": [
        "#6. Log error on ZeroDivisionError**\n",
        "\n",
        "import logging\n",
        "logging.basicConfig(filename='error.log', level=logging.ERROR)\n",
        "try:\n",
        "    result = 1 / 0\n",
        "except ZeroDivisionError as e:\n",
        "    logging.error(\"Division by zero: %s\", e)"
      ],
      "metadata": {
        "colab": {
          "base_uri": "https://localhost:8080/"
        },
        "id": "4UXce8wgmWqO",
        "outputId": "47073095-fda5-4757-83fa-7ed2cfc1e798"
      },
      "execution_count": 45,
      "outputs": [
        {
          "output_type": "stream",
          "name": "stderr",
          "text": [
            "ERROR:root:Division by zero: division by zero\n"
          ]
        }
      ]
    },
    {
      "cell_type": "code",
      "source": [
        "#7. Logging at multiple levels**\n",
        "\n",
        "import logging\n",
        "logging.info(\"This is an info message\")\n",
        "logging.warning(\"This is a warning\")\n",
        "logging.error(\"This is an error\")"
      ],
      "metadata": {
        "colab": {
          "base_uri": "https://localhost:8080/"
        },
        "id": "RNDjtTrYmbE_",
        "outputId": "4f580149-d454-4b79-b91e-2d6eb5499fb0"
      },
      "execution_count": 43,
      "outputs": [
        {
          "output_type": "stream",
          "name": "stderr",
          "text": [
            "WARNING:root:This is a warning\n",
            "ERROR:root:This is an error\n"
          ]
        }
      ]
    },
    {
      "cell_type": "code",
      "source": [
        "#8. Handle file open error**\n",
        "\n",
        "try:\n",
        "    with open('myfile.txt', 'r') as f:\n",
        "        print(f.read())\n",
        "except IOError:\n",
        "    print(\"Error opening file\")"
      ],
      "metadata": {
        "colab": {
          "base_uri": "https://localhost:8080/"
        },
        "id": "xXRyiaNOmfQD",
        "outputId": "70b4a004-68fa-452c-e976-65272de8bb44"
      },
      "execution_count": 42,
      "outputs": [
        {
          "output_type": "stream",
          "name": "stdout",
          "text": [
            "Error opening file\n"
          ]
        }
      ]
    },
    {
      "cell_type": "code",
      "source": [
        "#9. Read lines into list**\n",
        "\n",
        "with open('data.txt', 'r') as f:\n",
        "    lines = f.readlines()"
      ],
      "metadata": {
        "id": "5WhDm7IHmi9R"
      },
      "execution_count": 40,
      "outputs": []
    },
    {
      "cell_type": "code",
      "source": [
        "#10. Append data to file**\n",
        "\n",
        "with open('file.txt', 'a') as f:\n",
        "    f.write(\"Appending new line\\n\")"
      ],
      "metadata": {
        "id": "faQSn-k_mmMW"
      },
      "execution_count": 38,
      "outputs": []
    },
    {
      "cell_type": "code",
      "source": [
        "#11. Handle missing dictionary key**\n",
        "\n",
        "d = {'a': 1}\n",
        "try:\n",
        "    print(d['b'])\n",
        "except KeyError:\n",
        "    print(\"Key does not exist\")"
      ],
      "metadata": {
        "colab": {
          "base_uri": "https://localhost:8080/"
        },
        "id": "nWQCk7JcmpJ_",
        "outputId": "16c8c3ed-7a67-4842-87fe-ddef08adffd9"
      },
      "execution_count": 36,
      "outputs": [
        {
          "output_type": "stream",
          "name": "stdout",
          "text": [
            "Key does not exist\n"
          ]
        }
      ]
    },
    {
      "cell_type": "code",
      "source": [
        "#12. Multiple except blocks**\n",
        "\n",
        "try:\n",
        "    x = int('abc')\n",
        "except ValueError:\n",
        "    print(\"Invalid value\")\n",
        "except TypeError:\n",
        "    print(\"Type error\")"
      ],
      "metadata": {
        "colab": {
          "base_uri": "https://localhost:8080/"
        },
        "id": "oEye3gnHmt7y",
        "outputId": "c55b5f35-c47d-4691-aac8-c1a8ae7d9952"
      },
      "execution_count": 34,
      "outputs": [
        {
          "output_type": "stream",
          "name": "stdout",
          "text": [
            "Invalid value\n"
          ]
        }
      ]
    },
    {
      "cell_type": "code",
      "source": [
        "#13. Check file existence**\n",
        "\n",
        "import os\n",
        "if os.path.exists(\"test.txt\"):\n",
        "    with open(\"test.txt\") as f:\n",
        "        print(f.read())\n",
        "else:\n",
        "    print(\"File not found\")"
      ],
      "metadata": {
        "colab": {
          "base_uri": "https://localhost:8080/"
        },
        "id": "9kemROxHmvfY",
        "outputId": "79417ede-070a-4cfb-a885-c209eece75bd"
      },
      "execution_count": 32,
      "outputs": [
        {
          "output_type": "stream",
          "name": "stdout",
          "text": [
            "File not found\n"
          ]
        }
      ]
    },
    {
      "cell_type": "code",
      "source": [
        "#14. Logging info and error**\n",
        "\n",
        "import logging\n",
        "logging.basicConfig(filename='logfile.log', level=logging.DEBUG)\n",
        "logging.info(\"Program started\")\n",
        "try:\n",
        "    1 / 0\n",
        "except ZeroDivisionError:\n",
        "    logging.error(\"Division by zero\")"
      ],
      "metadata": {
        "colab": {
          "base_uri": "https://localhost:8080/"
        },
        "id": "mV6vuMO9myTu",
        "outputId": "d4c16570-0923-474e-8719-e537b97a6422"
      },
      "execution_count": 30,
      "outputs": [
        {
          "output_type": "stream",
          "name": "stderr",
          "text": [
            "ERROR:root:Division by zero\n"
          ]
        }
      ]
    },
    {
      "cell_type": "code",
      "source": [
        "#15. Handle empty file**\n",
        "\n",
        "with open(\"empty.txt\", \"r\") as f:\n",
        "    content = f.read()\n",
        "if not content:\n",
        "    print(\"File is empty\")\n",
        "\n",
        "else:\n",
        "    print(content)"
      ],
      "metadata": {
        "colab": {
          "base_uri": "https://localhost:8080/"
        },
        "id": "y33v1YR0m1Yr",
        "outputId": "88d4f571-64b6-4a36-8f69-804302d16a67"
      },
      "execution_count": 28,
      "outputs": [
        {
          "output_type": "stream",
          "name": "stdout",
          "text": [
            "File is empty\n"
          ]
        }
      ]
    },
    {
      "cell_type": "code",
      "source": [
        "#16. Memory profiling (using memory_profiler)**\n",
        "\n",
        "from memory_profiler import profile\n",
        "\n",
        "@profile\n",
        "def my_func():\n",
        "a = [i for i in range(100000)]\n",
        "\n",
        "my_func()\n"
      ],
      "metadata": {
        "id": "wnse1Xegm9kt"
      },
      "execution_count": null,
      "outputs": []
    },
    {
      "cell_type": "code",
      "source": [
        "#17. Write list to file**\n",
        "\n",
        "nums = [1, 2, 3, 4, 5]\n",
        "with open(\"numbers.txt\", \"w\") as f:\n",
        "    for num in nums:\n",
        "        f.write(str(num) + \"\\n\")"
      ],
      "metadata": {
        "id": "T4BWEG2ZnA0T"
      },
      "execution_count": 19,
      "outputs": []
    },
    {
      "cell_type": "code",
      "source": [
        "#18. Logging with rotation**\n",
        "\n",
        "import logging\n",
        "from logging.handlers import RotatingFileHandler\n",
        "logger = logging.getLogger()\n",
        "handler = RotatingFileHandler(\"app.log\", maxBytes=1024*1024, backupCount=3)\n",
        "logger.addHandler(handler)\n",
        "logger.error(\"Sample error\")"
      ],
      "metadata": {
        "colab": {
          "base_uri": "https://localhost:8080/"
        },
        "id": "sc3SJRo_nFdI",
        "outputId": "e94ea9ea-d84d-4540-a3c3-f2e700adb0b1"
      },
      "execution_count": 17,
      "outputs": [
        {
          "output_type": "stream",
          "name": "stderr",
          "text": [
            "ERROR:root:Sample error\n"
          ]
        }
      ]
    },
    {
      "cell_type": "code",
      "source": [
        "#19. Handle IndexError and KeyError**\n",
        "\n",
        "try:\n",
        "    lst = [1]\n",
        "    print(lst[2])\n",
        "except IndexError:\n",
        "    print(\"Index out of range\")\n",
        "\n",
        "try:\n",
        "    d = {}\n",
        "    print(d['x'])\n",
        "except KeyError:\n",
        "    print(\"Key not found\")"
      ],
      "metadata": {
        "colab": {
          "base_uri": "https://localhost:8080/"
        },
        "id": "SeUUl9rRnLQV",
        "outputId": "032b96fd-47b0-49f3-8907-c2a586697e86"
      },
      "execution_count": 15,
      "outputs": [
        {
          "output_type": "stream",
          "name": "stdout",
          "text": [
            "Index out of range\n",
            "Key not found\n"
          ]
        }
      ]
    },
    {
      "cell_type": "code",
      "source": [
        "#20. Open file with context manager**\n",
        "\n",
        "with open(\"context.txt\") as f:\n",
        "    print(f.read())"
      ],
      "metadata": {
        "colab": {
          "base_uri": "https://localhost:8080/"
        },
        "id": "KCNUQquxnRym",
        "outputId": "8d99dc50-51e6-41e1-bcda-9633d7a8a8da"
      },
      "execution_count": 13,
      "outputs": [
        {
          "output_type": "stream",
          "name": "stdout",
          "text": [
            "This is a sample file for context manager.\n"
          ]
        }
      ]
    },
    {
      "cell_type": "code",
      "source": [
        "#21. Count word occurrence**\n",
        "\n",
        "word = \"python\"\n",
        "count = 0\n",
        "\n",
        "with open(\"data.txt\") as f:\n",
        "    for line in f:\n",
        "        count += line.lower().split().count(word)\n",
        "print(f\"Occurrences: {count}\")"
      ],
      "metadata": {
        "colab": {
          "base_uri": "https://localhost:8080/"
        },
        "id": "WUp5P_qYnXK6",
        "outputId": "03ef2ce9-03ee-47e9-de84-175d1d2a4c89"
      },
      "execution_count": 9,
      "outputs": [
        {
          "output_type": "stream",
          "name": "stdout",
          "text": [
            "Occurrences: 2\n"
          ]
        }
      ]
    },
    {
      "cell_type": "code",
      "source": [
        "import os\n",
        "if os.path.exists(\"check.txt\") and os.stat(\"check.txt\").st_size == 0:\n",
        "    print(\"File is empty\")\n",
        "elif not os.path.exists(\"check.txt\"):\n",
        "    print(\"File does not exist\")\n",
        "else:\n",
        "    print(\"File is not empty\")"
      ],
      "metadata": {
        "colab": {
          "base_uri": "https://localhost:8080/"
        },
        "id": "PdFyVh-sndcc",
        "outputId": "d491d0b4-53fd-4881-9d09-e1cea9695cea"
      },
      "execution_count": 5,
      "outputs": [
        {
          "output_type": "stream",
          "name": "stdout",
          "text": [
            "File does not exist\n"
          ]
        }
      ]
    },
    {
      "cell_type": "code",
      "source": [
        "#23. Log file handling error**\n",
        "\n",
        "import logging\n",
        "try:\n",
        "    with open(\"nonexist.txt\") as f:\n",
        "        content = f.read()\n",
        "except Exception as e:\n",
        "    logging.error(\"File handling error: %s\", e)"
      ],
      "metadata": {
        "id": "ACHg21TcnfaE",
        "colab": {
          "base_uri": "https://localhost:8080/"
        },
        "outputId": "02de07bc-64eb-4980-d17f-c1db6922afc9"
      },
      "execution_count": 2,
      "outputs": [
        {
          "output_type": "stream",
          "name": "stderr",
          "text": [
            "ERROR:root:File handling error: [Errno 2] No such file or directory: 'nonexist.txt'\n"
          ]
        }
      ]
    },
    {
      "cell_type": "code",
      "metadata": {
        "id": "69896c33"
      },
      "source": [
        "with open(\"data.txt\", \"w\") as f:\n",
        "    f.write(\"This is a sample file.\\n\")\n",
        "    f.write(\"It contains the word python multiple times.\\n\")\n",
        "    f.write(\"python is a versatile language.\\n\")"
      ],
      "execution_count": 8,
      "outputs": []
    },
    {
      "cell_type": "code",
      "metadata": {
        "id": "99de1b0d"
      },
      "source": [
        "with open(\"context.txt\", \"w\") as f:\n",
        "    f.write(\"This is a sample file for context manager.\")"
      ],
      "execution_count": 12,
      "outputs": []
    },
    {
      "cell_type": "code",
      "metadata": {
        "id": "3b9089d9"
      },
      "source": [
        "with open(\"empty.txt\", \"w\") as f:\n",
        "    pass # Create an empty file"
      ],
      "execution_count": 27,
      "outputs": []
    },
    {
      "cell_type": "code",
      "metadata": {
        "id": "b0b5bfa8"
      },
      "source": [
        "with open(\"source.txt\", \"w\") as f:\n",
        "    f.write(\"This is the source file.\")"
      ],
      "execution_count": 50,
      "outputs": []
    },
    {
      "cell_type": "code",
      "metadata": {
        "id": "d1a59872"
      },
      "source": [
        "with open(\"input.txt\", \"w\") as f:\n",
        "    f.write(\"This is the first line.\\n\")\n",
        "    f.write(\"This is the second line.\\n\")\n",
        "    f.write(\"This is the third line.\")"
      ],
      "execution_count": 54,
      "outputs": []
    }
  ]
}